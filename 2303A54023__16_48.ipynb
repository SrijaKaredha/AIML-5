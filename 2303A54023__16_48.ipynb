{
  "nbformat": 4,
  "nbformat_minor": 0,
  "metadata": {
    "colab": {
      "provenance": [],
      "mount_file_id": "1uBH60bXG9Kr4hsDINKmV-FaMuzjUtqyF",
      "authorship_tag": "ABX9TyN83OEsHUcYfG15KEqQb67M",
      "include_colab_link": true
    },
    "kernelspec": {
      "name": "python3",
      "display_name": "Python 3"
    },
    "language_info": {
      "name": "python"
    }
  },
  "cells": [
    {
      "cell_type": "markdown",
      "metadata": {
        "id": "view-in-github",
        "colab_type": "text"
      },
      "source": [
        "<a href=\"https://colab.research.google.com/github/SrijaKaredha/AIML-5/blob/main/2303A54023__16_48.ipynb\" target=\"_parent\"><img src=\"https://colab.research.google.com/assets/colab-badge.svg\" alt=\"Open In Colab\"/></a>"
      ]
    },
    {
      "cell_type": "code",
      "execution_count": 1,
      "metadata": {
        "id": "Xwxj_hEOxcw5"
      },
      "outputs": [],
      "source": [
        "import pandas as pd"
      ]
    },
    {
      "cell_type": "code",
      "source": [
        "df = pd.read_csv(\"/content/tripadvisor_review.csv\")"
      ],
      "metadata": {
        "id": "wExhpe2xyCpV"
      },
      "execution_count": 2,
      "outputs": []
    },
    {
      "cell_type": "code",
      "source": [
        "category_means = df.drop(columns=['User ID']).mean().sort_values(ascending=False)"
      ],
      "metadata": {
        "id": "fELKmGzcyJIw"
      },
      "execution_count": 3,
      "outputs": []
    },
    {
      "cell_type": "code",
      "source": [
        "top_5_destinations = category_means.head(5)\n",
        "print(\"Top 5 Travel Destinations (Categories with highest average ratings):\")\n",
        "print(top_5_destinations)"
      ],
      "metadata": {
        "colab": {
          "base_uri": "https://localhost:8080/"
        },
        "id": "PX0ndX2iyMvV",
        "outputId": "51606ce9-b302-48ef-e7aa-01afad3f0ec9"
      },
      "execution_count": 4,
      "outputs": [
        {
          "output_type": "stream",
          "name": "stdout",
          "text": [
            "Top 5 Travel Destinations (Categories with highest average ratings):\n",
            "Category 7     3.180939\n",
            "Category 8     2.835061\n",
            "Category 10    2.799224\n",
            "Category 6     1.842898\n",
            "Category 9     1.569439\n",
            "dtype: float64\n"
          ]
        }
      ]
    },
    {
      "cell_type": "code",
      "source": [
        "most_liked_category = category_means.idxmax()\n",
        "print(\"\\nMost Liked Category:\", most_liked_category)\n"
      ],
      "metadata": {
        "colab": {
          "base_uri": "https://localhost:8080/"
        },
        "id": "gZFjbBGeyPy7",
        "outputId": "bbbf4462-938c-47d8-b0b2-e5f99a077a15"
      },
      "execution_count": 5,
      "outputs": [
        {
          "output_type": "stream",
          "name": "stdout",
          "text": [
            "\n",
            "Most Liked Category: Category 7\n"
          ]
        }
      ]
    },
    {
      "cell_type": "code",
      "source": [
        "max_category = category_means.idxmax()\n",
        "min_category = category_means.idxmin()\n",
        "print(\"\\nCategory with Maximum Rating:\", max_category)\n",
        "print(\"Category with Minimum Rating:\", min_category)\n"
      ],
      "metadata": {
        "colab": {
          "base_uri": "https://localhost:8080/"
        },
        "id": "OQYqqTbayUK7",
        "outputId": "92dac92e-24b0-4f50-8791-f0dfc9998599"
      },
      "execution_count": 6,
      "outputs": [
        {
          "output_type": "stream",
          "name": "stdout",
          "text": [
            "\n",
            "Category with Maximum Rating: Category 7\n",
            "Category with Minimum Rating: Category 4\n"
          ]
        }
      ]
    },
    {
      "cell_type": "code",
      "source": [
        "religious_travelers = df[df['Category 7'] > df['Category 7'].mean()]\n",
        "print(\"\\nNumber of Travelers Who Liked Religious Destinations:\", religious_travelers.shape[0])"
      ],
      "metadata": {
        "colab": {
          "base_uri": "https://localhost:8080/"
        },
        "id": "buQG9Sonyd4x",
        "outputId": "e14bdf75-0942-46d3-ea11-85f6d8d2f1c0"
      },
      "execution_count": 10,
      "outputs": [
        {
          "output_type": "stream",
          "name": "stdout",
          "text": [
            "\n",
            "Number of Travelers Who Liked Religious Destinations: 223\n"
          ]
        }
      ]
    },
    {
      "cell_type": "code",
      "source": [
        "beach_travelers = df[df['Category 8'] > df['Category 8'].mean()]\n",
        "print(\"Number of Travelers Who Liked Beaches/Picnics:\", beach_travelers.shape[0])"
      ],
      "metadata": {
        "colab": {
          "base_uri": "https://localhost:8080/"
        },
        "id": "IZ8ilHsXyj5u",
        "outputId": "18b96e74-d38c-4fb7-81c0-93148f5b608a"
      },
      "execution_count": 11,
      "outputs": [
        {
          "output_type": "stream",
          "name": "stdout",
          "text": [
            "Number of Travelers Who Liked Beaches/Picnics: 452\n"
          ]
        }
      ]
    }
  ]
}